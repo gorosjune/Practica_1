{
 "cells": [
  {
   "cell_type": "code",
   "execution_count": 2,
   "id": "e254b50e",
   "metadata": {},
   "outputs": [],
   "source": [
    "import numpy as np \n",
    "import pandas as pd\n",
    "import nltk\n",
    "from nltk.corpus import stopwords\n",
    "from nltk.probability import FreqDist\n",
    "import string as s\n",
    "import re\n",
    "\n",
    "import matplotlib.pyplot as plt\n",
    "from sklearn.model_selection import train_test_split\n",
    "from sklearn.feature_extraction.text import CountVectorizer\n",
    "from sklearn.metrics import confusion_matrix\n",
    "from mlxtend.plotting import plot_confusion_matrix\n",
    "\n",
    "from tensorflow.keras.models import Sequential\n",
    "from tensorflow.keras.layers import Embedding, LSTM, Dense, Dropout, GlobalMaxPooling1D\n",
    "from tensorflow.keras.preprocessing.text import Tokenizer\n",
    "from tensorflow.keras.preprocessing.sequence import pad_sequences\n",
    "from tensorflow.keras.callbacks import ModelCheckpoint, EarlyStopping\n",
    "\n",
    "import seaborn as sns\n",
    "\n",
    "from sklearn.naive_bayes import MultinomialNB\n",
    "from sklearn.model_selection import train_test_split\n",
    "import os\n",
    "for dirname, _, filenames in os.walk('/kaggle/input'):\n",
    "    for filename in filenames:\n",
    "        print(os.path.join(dirname, filename))"
   ]
  },
  {
   "cell_type": "markdown",
   "id": "23bfd603",
   "metadata": {},
   "source": [
    "# Análisis de los atributos"
   ]
  },
  {
   "cell_type": "code",
   "execution_count": 3,
   "id": "dd7c5849",
   "metadata": {},
   "outputs": [
    {
     "data": {
      "text/html": [
       "<div>\n",
       "<style scoped>\n",
       "    .dataframe tbody tr th:only-of-type {\n",
       "        vertical-align: middle;\n",
       "    }\n",
       "\n",
       "    .dataframe tbody tr th {\n",
       "        vertical-align: top;\n",
       "    }\n",
       "\n",
       "    .dataframe thead th {\n",
       "        text-align: right;\n",
       "    }\n",
       "</style>\n",
       "<table border=\"1\" class=\"dataframe\">\n",
       "  <thead>\n",
       "    <tr style=\"text-align: right;\">\n",
       "      <th></th>\n",
       "      <th>headline</th>\n",
       "      <th>clickbait</th>\n",
       "    </tr>\n",
       "  </thead>\n",
       "  <tbody>\n",
       "    <tr>\n",
       "      <th>0</th>\n",
       "      <td>Should I Get Bings</td>\n",
       "      <td>1</td>\n",
       "    </tr>\n",
       "    <tr>\n",
       "      <th>1</th>\n",
       "      <td>Which TV Female Friend Group Do You Belong In</td>\n",
       "      <td>1</td>\n",
       "    </tr>\n",
       "    <tr>\n",
       "      <th>2</th>\n",
       "      <td>The New \"Star Wars: The Force Awakens\" Trailer...</td>\n",
       "      <td>1</td>\n",
       "    </tr>\n",
       "    <tr>\n",
       "      <th>3</th>\n",
       "      <td>This Vine Of New York On \"Celebrity Big Brothe...</td>\n",
       "      <td>1</td>\n",
       "    </tr>\n",
       "    <tr>\n",
       "      <th>4</th>\n",
       "      <td>A Couple Did A Stunning Photo Shoot With Their...</td>\n",
       "      <td>1</td>\n",
       "    </tr>\n",
       "  </tbody>\n",
       "</table>\n",
       "</div>"
      ],
      "text/plain": [
       "                                            headline  clickbait\n",
       "0                                 Should I Get Bings          1\n",
       "1      Which TV Female Friend Group Do You Belong In          1\n",
       "2  The New \"Star Wars: The Force Awakens\" Trailer...          1\n",
       "3  This Vine Of New York On \"Celebrity Big Brothe...          1\n",
       "4  A Couple Did A Stunning Photo Shoot With Their...          1"
      ]
     },
     "execution_count": 3,
     "metadata": {},
     "output_type": "execute_result"
    }
   ],
   "source": [
    "dataset= pd.read_csv('/Users/goros/Downloads/Kaggle/clickbait_data.csv')\n",
    "dataset.head()"
   ]
  },
  {
   "cell_type": "code",
   "execution_count": 4,
   "id": "e8740d3a",
   "metadata": {},
   "outputs": [],
   "source": [
    "x = dataset['headline']\n",
    "y = dataset['clickbait']"
   ]
  },
  {
   "cell_type": "code",
   "execution_count": 5,
   "id": "d5f6cdd9",
   "metadata": {},
   "outputs": [
    {
     "name": "stdout",
     "output_type": "stream",
     "text": [
      "Dimensionalidad de la BBDD: (32000, 2)\n",
      "Dimensionalidad de las entradas X (32000,)\n",
      "Dimensionalidad del atributo Y (32000,) \n",
      "\n",
      "Para contar el número de valores no existentes:\n",
      "headline     0\n",
      "clickbait    0\n",
      "dtype: int64\n",
      "\n",
      "Como se puede observar no existe ningun valor no existente, por lo que no será necesario asignar nigún valor o borrar ningún atributo.\n"
     ]
    }
   ],
   "source": [
    "print(\"Dimensionalidad de la BBDD:\", dataset.shape)\n",
    "print(\"Dimensionalidad de las entradas X\", x.shape)\n",
    "print(\"Dimensionalidad del atributo Y\", y.shape, \"\\n\")\n",
    "\n",
    "\n",
    "print(\"Para contar el número de valores no existentes:\")\n",
    "print(dataset.isnull().sum())\n",
    "\n",
    "print(\"\\nComo se puede observar no existe ningun valor no existente, por lo que no será necesario asignar nigún valor o borrar ningún atributo.\")"
   ]
  },
  {
   "cell_type": "code",
   "execution_count": 6,
   "id": "afa5461b",
   "metadata": {},
   "outputs": [
    {
     "name": "stdout",
     "output_type": "stream",
     "text": [
      "<class 'pandas.core.frame.DataFrame'>\n",
      "RangeIndex: 32000 entries, 0 to 31999\n",
      "Data columns (total 2 columns):\n",
      " #   Column     Non-Null Count  Dtype \n",
      "---  ------     --------------  ----- \n",
      " 0   headline   32000 non-null  object\n",
      " 1   clickbait  32000 non-null  int64 \n",
      "dtypes: int64(1), object(1)\n",
      "memory usage: 500.1+ KB\n"
     ]
    }
   ],
   "source": [
    "# tipo de cada atributo\n",
    "dataset.info()"
   ]
  },
  {
   "cell_type": "code",
   "execution_count": 7,
   "id": "49ae622a",
   "metadata": {},
   "outputs": [
    {
     "name": "stdout",
     "output_type": "stream",
     "text": [
      "\n",
      "Mostramos las estadísticas de los atributos númericos de la BBDD:\n"
     ]
    },
    {
     "data": {
      "text/html": [
       "<div>\n",
       "<style scoped>\n",
       "    .dataframe tbody tr th:only-of-type {\n",
       "        vertical-align: middle;\n",
       "    }\n",
       "\n",
       "    .dataframe tbody tr th {\n",
       "        vertical-align: top;\n",
       "    }\n",
       "\n",
       "    .dataframe thead th {\n",
       "        text-align: right;\n",
       "    }\n",
       "</style>\n",
       "<table border=\"1\" class=\"dataframe\">\n",
       "  <thead>\n",
       "    <tr style=\"text-align: right;\">\n",
       "      <th></th>\n",
       "      <th>clickbait</th>\n",
       "    </tr>\n",
       "  </thead>\n",
       "  <tbody>\n",
       "    <tr>\n",
       "      <th>count</th>\n",
       "      <td>32000.000000</td>\n",
       "    </tr>\n",
       "    <tr>\n",
       "      <th>mean</th>\n",
       "      <td>0.499969</td>\n",
       "    </tr>\n",
       "    <tr>\n",
       "      <th>std</th>\n",
       "      <td>0.500008</td>\n",
       "    </tr>\n",
       "    <tr>\n",
       "      <th>min</th>\n",
       "      <td>0.000000</td>\n",
       "    </tr>\n",
       "    <tr>\n",
       "      <th>25%</th>\n",
       "      <td>0.000000</td>\n",
       "    </tr>\n",
       "    <tr>\n",
       "      <th>50%</th>\n",
       "      <td>0.000000</td>\n",
       "    </tr>\n",
       "    <tr>\n",
       "      <th>75%</th>\n",
       "      <td>1.000000</td>\n",
       "    </tr>\n",
       "    <tr>\n",
       "      <th>max</th>\n",
       "      <td>1.000000</td>\n",
       "    </tr>\n",
       "  </tbody>\n",
       "</table>\n",
       "</div>"
      ],
      "text/plain": [
       "          clickbait\n",
       "count  32000.000000\n",
       "mean       0.499969\n",
       "std        0.500008\n",
       "min        0.000000\n",
       "25%        0.000000\n",
       "50%        0.000000\n",
       "75%        1.000000\n",
       "max        1.000000"
      ]
     },
     "execution_count": 7,
     "metadata": {},
     "output_type": "execute_result"
    }
   ],
   "source": [
    "print(\"\\nMostramos las estadísticas de los atributos númericos de la BBDD:\")\n",
    "dataset.describe()"
   ]
  },
  {
   "cell_type": "code",
   "execution_count": 8,
   "id": "33e181fa",
   "metadata": {},
   "outputs": [
    {
     "name": "stderr",
     "output_type": "stream",
     "text": [
      "C:\\Users\\goros\\anaconda3\\lib\\site-packages\\seaborn\\_decorators.py:36: FutureWarning: Pass the following variable as a keyword arg: x. From version 0.12, the only valid positional argument will be `data`, and passing other arguments without an explicit keyword will result in an error or misinterpretation.\n",
      "  warnings.warn(\n"
     ]
    },
    {
     "data": {
      "text/plain": [
       "<AxesSubplot:xlabel='clickbait', ylabel='count'>"
      ]
     },
     "execution_count": 8,
     "metadata": {},
     "output_type": "execute_result"
    },
    {
     "data": {
      "image/png": "[encoded data removed]",
      "text/plain": [
       "<Figure size 432x288 with 1 Axes>"
      ]
     },
     "metadata": {
      "needs_background": "light"
     },
     "output_type": "display_data"
    }
   ],
   "source": [
    "sns.countplot(dataset.clickbait)"
   ]
  },
  {
   "cell_type": "markdown",
   "id": "74d7742d",
   "metadata": {},
   "source": [
    "# Aplicación de diversos métodos de aprendizaje"
   ]
  },
  {
   "cell_type": "markdown",
   "id": "46292dc4",
   "metadata": {},
   "source": [
    "## Detector clickbait con vectorizador de recuento"
   ]
  },
  {
   "cell_type": "markdown",
   "id": "147f4bc6",
   "metadata": {},
   "source": [
    " ### División en conjuntos de tren y prueba"
   ]
  },
  {
   "cell_type": "markdown",
   "id": "34faa1dc",
   "metadata": {},
   "source": [
    "El conjunto de datos se divide en conjuntos de entrenamiento y prueba. El porcentaje de datos de entrenamiento es del 75% y los datos de prueba son del 25%"
   ]
  },
  {
   "cell_type": "code",
   "execution_count": 9,
   "id": "0569580f",
   "metadata": {},
   "outputs": [],
   "source": [
    "x=dataset.headline\n",
    "y=dataset.clickbait\n",
    "train_x,test_x,train_y,test_y=train_test_split(x,y,test_size=0.25,random_state=22,stratify=dataset['clickbait'])"
   ]
  },
  {
   "cell_type": "markdown",
   "id": "ca0de767",
   "metadata": {},
   "source": [
    "### Análisis de datos de entrenamiento y prueba"
   ]
  },
  {
   "cell_type": "code",
   "execution_count": 10,
   "id": "421236b6",
   "metadata": {},
   "outputs": [
    {
     "name": "stdout",
     "output_type": "stream",
     "text": [
      "Número de elementos en el test de entrenamiento\n",
      "24000\n",
      "Número de elementos en el test de prueba\n",
      "8000\n"
     ]
    }
   ],
   "source": [
    "print(\"Número de elementos en el test de entrenamiento\")\n",
    "print(train_x.size)\n",
    "print(\"Número de elementos en el test de prueba\")\n",
    "print(test_x.size)"
   ]
  },
  {
   "cell_type": "code",
   "execution_count": 11,
   "id": "7d3b1e37",
   "metadata": {},
   "outputs": [
    {
     "name": "stdout",
     "output_type": "stream",
     "text": [
      "16963    California's same-sex marriage ban ruled uncon...\n",
      "31283    Sports-heavy broadcast day for BBC One receive...\n",
      "22340    Report says disappearing life threatens biodiv...\n",
      "24344    UN accuses US of wholesale rights violations i...\n",
      "2219     5 Ridiculous Things Science Claimed About Bear...\n",
      "Name: headline, dtype: object\n",
      "16963    0\n",
      "31283    0\n",
      "22340    0\n",
      "24344    0\n",
      "2219     1\n",
      "Name: clickbait, dtype: int64\n"
     ]
    }
   ],
   "source": [
    "print(train_x.head())\n",
    "print(train_y.head())"
   ]
  },
  {
   "cell_type": "code",
   "execution_count": 12,
   "id": "4e663a8b",
   "metadata": {},
   "outputs": [
    {
     "name": "stdout",
     "output_type": "stream",
     "text": [
      "31858                 Indian Ocean tsunami, one year after\n",
      "20688    UN carries out first review of US human rights...\n",
      "19125    Pirate Bay case: Internet group attacks websit...\n",
      "13523             How Many Iconic '70s Films Have You Seen\n",
      "3473        How Much Do You Really Know About \"Doctor Who\"\n",
      "Name: headline, dtype: object\n",
      "31858    0\n",
      "20688    0\n",
      "19125    0\n",
      "13523    1\n",
      "3473     1\n",
      "Name: clickbait, dtype: int64\n"
     ]
    }
   ],
   "source": [
    "print(test_x.head())\n",
    "print(test_y.head())"
   ]
  },
  {
   "cell_type": "markdown",
   "id": "facc3bb8",
   "metadata": {},
   "source": [
    "### Tokenización de datos"
   ]
  },
  {
   "cell_type": "markdown",
   "id": "73823e55",
   "metadata": {},
   "source": [
    "Los datos se \"tokenizan\", es decir, se dividen en tokens que son las unidades significativas más pequeñas o mínimas. Los datos se dividen en palabras."
   ]
  },
  {
   "cell_type": "code",
   "execution_count": 13,
   "id": "d5a3dd4b",
   "metadata": {},
   "outputs": [],
   "source": [
    "def tokenization(text):\n",
    "    lst=text.split()\n",
    "    return lst\n",
    "train_x=train_x.apply(tokenization)\n",
    "test_x=test_x.apply(tokenization)"
   ]
  },
  {
   "cell_type": "markdown",
   "id": "0e85b92c",
   "metadata": {},
   "source": [
    "### Conversión a minúsculas"
   ]
  },
  {
   "cell_type": "markdown",
   "id": "85fc90d0",
   "metadata": {},
   "source": [
    "Los datos se convierten en minúsculas para evitar la ambigüedad entre las mismas palabras en diferentes casos como 'PNL', 'pnl' o 'PNL'."
   ]
  },
  {
   "cell_type": "code",
   "execution_count": 14,
   "id": "a1e17ec3",
   "metadata": {},
   "outputs": [],
   "source": [
    "def lowercasing(lst):\n",
    "    new_lst=[]\n",
    "    for i in lst:\n",
    "        i=i.lower()\n",
    "        new_lst.append(i)\n",
    "    return new_lst\n",
    "train_x=train_x.apply(lowercasing)\n",
    "test_x=test_x.apply(lowercasing) "
   ]
  },
  {
   "cell_type": "markdown",
   "id": "1d454c02",
   "metadata": {},
   "source": [
    "### Eliminación de palabras clave"
   ]
  },
  {
   "cell_type": "code",
   "execution_count": 15,
   "id": "22681b58",
   "metadata": {},
   "outputs": [
    {
     "name": "stderr",
     "output_type": "stream",
     "text": [
      "[nltk_data] Downloading package stopwords to\n",
      "[nltk_data]     C:\\Users\\goros\\AppData\\Roaming\\nltk_data...\n",
      "[nltk_data]   Package stopwords is already up-to-date!\n"
     ]
    },
    {
     "data": {
      "text/plain": [
       "True"
      ]
     },
     "execution_count": 15,
     "metadata": {},
     "output_type": "execute_result"
    }
   ],
   "source": [
    "import nltk\n",
    "nltk.download('stopwords')"
   ]
  },
  {
   "cell_type": "code",
   "execution_count": 17,
   "id": "ab4ef04c",
   "metadata": {},
   "outputs": [],
   "source": [
    "def remove_stopwords(lst):\n",
    "    stop=stopwords.words('english')\n",
    "    new_lst=[]\n",
    "    for i in lst:\n",
    "        if i not in stop:\n",
    "            new_lst.append(i)\n",
    "    return new_lst\n",
    "\n",
    "train_x=train_x.apply(remove_stopwords)\n",
    "test_x=test_x.apply(remove_stopwords)  "
   ]
  },
  {
   "cell_type": "markdown",
   "id": "5db0557f",
   "metadata": {},
   "source": [
    "### Eliminación de la puntuación"
   ]
  },
  {
   "cell_type": "markdown",
   "id": "5cfea9cf",
   "metadata": {},
   "source": [
    "Las puntuaciones se eliminan para aumentar la eficiencia del modelo. Son irrelevantes porque no proporcionan información adicional."
   ]
  },
  {
   "cell_type": "code",
   "execution_count": 18,
   "id": "5aaa5b14",
   "metadata": {},
   "outputs": [],
   "source": [
    "def remove_punctuations(lst):\n",
    "    new_lst=[]\n",
    "    for i in lst:\n",
    "        for j in s.punctuation:\n",
    "            i=i.replace(j,'')\n",
    "        new_lst.append(i)\n",
    "    return new_lst\n",
    "train_x=train_x.apply(remove_punctuations)\n",
    "test_x=test_x.apply(remove_punctuations)"
   ]
  },
  {
   "cell_type": "markdown",
   "id": "f7b6d738",
   "metadata": {},
   "source": [
    "### Eliminación de números"
   ]
  },
  {
   "cell_type": "code",
   "execution_count": 19,
   "id": "e770b9dc",
   "metadata": {},
   "outputs": [],
   "source": [
    "def remove_numbers(lst):\n",
    "    nodig_lst=[]\n",
    "    new_lst=[]\n",
    "    for i in lst:\n",
    "        for j in s.digits:    \n",
    "            i=i.replace(j,'')\n",
    "        nodig_lst.append(i)\n",
    "    for i in nodig_lst:\n",
    "        if i!='':\n",
    "            new_lst.append(i)\n",
    "    return new_lst\n",
    "train_x=train_x.apply(remove_numbers)\n",
    "test_x=test_x.apply(remove_numbers)"
   ]
  },
  {
   "cell_type": "markdown",
   "id": "f21a5112",
   "metadata": {},
   "source": [
    "### Eliminación de espacios adicionales"
   ]
  },
  {
   "cell_type": "code",
   "execution_count": 20,
   "id": "b9faaacd",
   "metadata": {},
   "outputs": [],
   "source": [
    "def remove_spaces(lst):\n",
    "    new_lst=[]\n",
    "    for i in lst:\n",
    "        i=i.strip()\n",
    "        new_lst.append(i)\n",
    "    return new_lst\n",
    "train_x=train_x.apply(remove_spaces)\n",
    "test_x=test_x.apply(remove_spaces)"
   ]
  },
  {
   "cell_type": "markdown",
   "id": "6eb06fd3",
   "metadata": {},
   "source": [
    "### Análisis de datos después del preprocesamiento"
   ]
  },
  {
   "cell_type": "markdown",
   "id": "9f58f1fd",
   "metadata": {},
   "source": [
    "Después de preprocesar los datos, es decir, después de eliminar la puntuación, las palabras clave, los espacios y los números."
   ]
  },
  {
   "cell_type": "code",
   "execution_count": 21,
   "id": "ccbab54b",
   "metadata": {},
   "outputs": [
    {
     "data": {
      "text/plain": [
       "16963    [californias, samesex, marriage, ban, ruled, u...\n",
       "31283    [sportsheavy, broadcast, day, bbc, one, receiv...\n",
       "22340    [report, says, disappearing, life, threatens, ...\n",
       "24344    [un, accuses, us, wholesale, rights, violation...\n",
       "2219     [ridiculous, things, science, claimed, bearded...\n",
       "Name: headline, dtype: object"
      ]
     },
     "execution_count": 21,
     "metadata": {},
     "output_type": "execute_result"
    }
   ],
   "source": [
    "train_x.head()"
   ]
  },
  {
   "cell_type": "code",
   "execution_count": 22,
   "id": "decd3299",
   "metadata": {},
   "outputs": [
    {
     "data": {
      "text/plain": [
       "31858                  [indian, ocean, tsunami, one, year]\n",
       "20688    [un, carries, first, review, us, human, rights...\n",
       "19125    [pirate, bay, case, internet, group, attacks, ...\n",
       "13523                       [many, iconic, s, films, seen]\n",
       "3473                     [much, really, know, doctor, who]\n",
       "Name: headline, dtype: object"
      ]
     },
     "execution_count": 22,
     "metadata": {},
     "output_type": "execute_result"
    }
   ],
   "source": [
    "test_x.head()"
   ]
  },
  {
   "cell_type": "markdown",
   "id": "66483468",
   "metadata": {},
   "source": [
    "### Lemmatization"
   ]
  },
  {
   "cell_type": "markdown",
   "id": "a2f14ef7",
   "metadata": {},
   "source": [
    "La lemmatización en la lingüística es el proceso de agrupar las formas inflexibles de una palabra para que puedan ser analizadas como un solo elemento, identificado por el lema de la palabra, o forma de diccionario. Implica el análisis morfológico de las palabras. En la lemmatización encontramos la palabra raíz o forma base de la palabra en lugar de simplemente recortar algunos caracteres del extremo, p.ej. es, son, am se convierten a su forma base en Lemmatización Aquí la lemmatización se hace usando la biblioteca NLTK."
   ]
  },
  {
   "cell_type": "code",
   "execution_count": 23,
   "id": "a776e2a4",
   "metadata": {},
   "outputs": [
    {
     "name": "stderr",
     "output_type": "stream",
     "text": [
      "[nltk_data] Downloading package wordnet to\n",
      "[nltk_data]     C:\\Users\\goros\\AppData\\Roaming\\nltk_data...\n",
      "[nltk_data]   Package wordnet is already up-to-date!\n"
     ]
    },
    {
     "data": {
      "text/plain": [
       "True"
      ]
     },
     "execution_count": 23,
     "metadata": {},
     "output_type": "execute_result"
    }
   ],
   "source": [
    "nltk.download('wordnet')"
   ]
  },
  {
   "cell_type": "code",
   "execution_count": 24,
   "id": "82e461ef",
   "metadata": {},
   "outputs": [],
   "source": [
    "lemmatizer=nltk.stem.WordNetLemmatizer()\n",
    "def lemmatzation(lst):\n",
    "    new_lst=[]\n",
    "    for i in lst:\n",
    "        i=lemmatizer.lemmatize(i)\n",
    "        new_lst.append(i)\n",
    "    return new_lst\n",
    "train_x=train_x.apply(lemmatzation)\n",
    "test_x=test_x.apply(lemmatzation)"
   ]
  },
  {
   "cell_type": "code",
   "execution_count": 25,
   "id": "faf9f462",
   "metadata": {},
   "outputs": [],
   "source": [
    "train_x=train_x.apply(lambda x: ''.join(i+' ' for i in x))\n",
    "test_x=test_x.apply(lambda x: ''.join(i+' ' for i in x))"
   ]
  },
  {
   "cell_type": "markdown",
   "id": "648098a5",
   "metadata": {},
   "source": [
    "### Countvectoriser"
   ]
  },
  {
   "cell_type": "markdown",
   "id": "a074bc79",
   "metadata": {},
   "source": [
    "Este método se utiliza para convertir el texto en entidades."
   ]
  },
  {
   "cell_type": "code",
   "execution_count": 26,
   "id": "3b386bff",
   "metadata": {},
   "outputs": [],
   "source": [
    "from sklearn.feature_extraction.text import CountVectorizer\n",
    "cov=CountVectorizer(analyzer='word', ngram_range=(1,2),max_features=22500)\n",
    "train_1=cov.fit_transform(train_x)\n",
    "test_1=cov.transform(test_x)"
   ]
  },
  {
   "cell_type": "code",
   "execution_count": 27,
   "id": "6c99bde9",
   "metadata": {},
   "outputs": [],
   "source": [
    "train_arr=train_1.toarray()\n",
    "test_arr=test_1.toarray()"
   ]
  },
  {
   "cell_type": "code",
   "execution_count": 28,
   "id": "dae7ce0a",
   "metadata": {},
   "outputs": [
    {
     "data": {
      "text/html": [
       "<div>\n",
       "<style scoped>\n",
       "    .dataframe tbody tr th:only-of-type {\n",
       "        vertical-align: middle;\n",
       "    }\n",
       "\n",
       "    .dataframe tbody tr th {\n",
       "        vertical-align: top;\n",
       "    }\n",
       "\n",
       "    .dataframe thead th {\n",
       "        text-align: right;\n",
       "    }\n",
       "</style>\n",
       "<table border=\"1\" class=\"dataframe\">\n",
       "  <thead>\n",
       "    <tr style=\"text-align: right;\">\n",
       "      <th></th>\n",
       "      <th>aaa</th>\n",
       "      <th>aaron</th>\n",
       "      <th>aaron tveit</th>\n",
       "      <th>ab</th>\n",
       "      <th>abandon</th>\n",
       "      <th>abandoned</th>\n",
       "      <th>abbas</th>\n",
       "      <th>abbey</th>\n",
       "      <th>abbott</th>\n",
       "      <th>abby</th>\n",
       "      <th>...</th>\n",
       "      <th>zombie apocalypse</th>\n",
       "      <th>zone</th>\n",
       "      <th>zoo</th>\n",
       "      <th>zoolander</th>\n",
       "      <th>zotob</th>\n",
       "      <th>zotob worm</th>\n",
       "      <th>zuma</th>\n",
       "      <th>zurich</th>\n",
       "      <th>íngrid</th>\n",
       "      <th>íngrid betancourt</th>\n",
       "    </tr>\n",
       "  </thead>\n",
       "  <tbody>\n",
       "    <tr>\n",
       "      <th>0</th>\n",
       "      <td>0</td>\n",
       "      <td>0</td>\n",
       "      <td>0</td>\n",
       "      <td>0</td>\n",
       "      <td>0</td>\n",
       "      <td>0</td>\n",
       "      <td>0</td>\n",
       "      <td>0</td>\n",
       "      <td>0</td>\n",
       "      <td>0</td>\n",
       "      <td>...</td>\n",
       "      <td>0</td>\n",
       "      <td>0</td>\n",
       "      <td>0</td>\n",
       "      <td>0</td>\n",
       "      <td>0</td>\n",
       "      <td>0</td>\n",
       "      <td>0</td>\n",
       "      <td>0</td>\n",
       "      <td>0</td>\n",
       "      <td>0</td>\n",
       "    </tr>\n",
       "    <tr>\n",
       "      <th>1</th>\n",
       "      <td>0</td>\n",
       "      <td>0</td>\n",
       "      <td>0</td>\n",
       "      <td>0</td>\n",
       "      <td>0</td>\n",
       "      <td>0</td>\n",
       "      <td>0</td>\n",
       "      <td>0</td>\n",
       "      <td>0</td>\n",
       "      <td>0</td>\n",
       "      <td>...</td>\n",
       "      <td>0</td>\n",
       "      <td>0</td>\n",
       "      <td>0</td>\n",
       "      <td>0</td>\n",
       "      <td>0</td>\n",
       "      <td>0</td>\n",
       "      <td>0</td>\n",
       "      <td>0</td>\n",
       "      <td>0</td>\n",
       "      <td>0</td>\n",
       "    </tr>\n",
       "    <tr>\n",
       "      <th>2</th>\n",
       "      <td>0</td>\n",
       "      <td>0</td>\n",
       "      <td>0</td>\n",
       "      <td>0</td>\n",
       "      <td>0</td>\n",
       "      <td>0</td>\n",
       "      <td>0</td>\n",
       "      <td>0</td>\n",
       "      <td>0</td>\n",
       "      <td>0</td>\n",
       "      <td>...</td>\n",
       "      <td>0</td>\n",
       "      <td>0</td>\n",
       "      <td>0</td>\n",
       "      <td>0</td>\n",
       "      <td>0</td>\n",
       "      <td>0</td>\n",
       "      <td>0</td>\n",
       "      <td>0</td>\n",
       "      <td>0</td>\n",
       "      <td>0</td>\n",
       "    </tr>\n",
       "    <tr>\n",
       "      <th>3</th>\n",
       "      <td>0</td>\n",
       "      <td>0</td>\n",
       "      <td>0</td>\n",
       "      <td>0</td>\n",
       "      <td>0</td>\n",
       "      <td>0</td>\n",
       "      <td>0</td>\n",
       "      <td>0</td>\n",
       "      <td>0</td>\n",
       "      <td>0</td>\n",
       "      <td>...</td>\n",
       "      <td>0</td>\n",
       "      <td>0</td>\n",
       "      <td>0</td>\n",
       "      <td>0</td>\n",
       "      <td>0</td>\n",
       "      <td>0</td>\n",
       "      <td>0</td>\n",
       "      <td>0</td>\n",
       "      <td>0</td>\n",
       "      <td>0</td>\n",
       "    </tr>\n",
       "    <tr>\n",
       "      <th>4</th>\n",
       "      <td>0</td>\n",
       "      <td>0</td>\n",
       "      <td>0</td>\n",
       "      <td>0</td>\n",
       "      <td>0</td>\n",
       "      <td>0</td>\n",
       "      <td>0</td>\n",
       "      <td>0</td>\n",
       "      <td>0</td>\n",
       "      <td>0</td>\n",
       "      <td>...</td>\n",
       "      <td>0</td>\n",
       "      <td>0</td>\n",
       "      <td>0</td>\n",
       "      <td>0</td>\n",
       "      <td>0</td>\n",
       "      <td>0</td>\n",
       "      <td>0</td>\n",
       "      <td>0</td>\n",
       "      <td>0</td>\n",
       "      <td>0</td>\n",
       "    </tr>\n",
       "    <tr>\n",
       "      <th>...</th>\n",
       "      <td>...</td>\n",
       "      <td>...</td>\n",
       "      <td>...</td>\n",
       "      <td>...</td>\n",
       "      <td>...</td>\n",
       "      <td>...</td>\n",
       "      <td>...</td>\n",
       "      <td>...</td>\n",
       "      <td>...</td>\n",
       "      <td>...</td>\n",
       "      <td>...</td>\n",
       "      <td>...</td>\n",
       "      <td>...</td>\n",
       "      <td>...</td>\n",
       "      <td>...</td>\n",
       "      <td>...</td>\n",
       "      <td>...</td>\n",
       "      <td>...</td>\n",
       "      <td>...</td>\n",
       "      <td>...</td>\n",
       "      <td>...</td>\n",
       "    </tr>\n",
       "    <tr>\n",
       "      <th>95</th>\n",
       "      <td>0</td>\n",
       "      <td>0</td>\n",
       "      <td>0</td>\n",
       "      <td>0</td>\n",
       "      <td>0</td>\n",
       "      <td>0</td>\n",
       "      <td>0</td>\n",
       "      <td>0</td>\n",
       "      <td>0</td>\n",
       "      <td>0</td>\n",
       "      <td>...</td>\n",
       "      <td>0</td>\n",
       "      <td>0</td>\n",
       "      <td>0</td>\n",
       "      <td>0</td>\n",
       "      <td>0</td>\n",
       "      <td>0</td>\n",
       "      <td>0</td>\n",
       "      <td>0</td>\n",
       "      <td>0</td>\n",
       "      <td>0</td>\n",
       "    </tr>\n",
       "    <tr>\n",
       "      <th>96</th>\n",
       "      <td>0</td>\n",
       "      <td>0</td>\n",
       "      <td>0</td>\n",
       "      <td>0</td>\n",
       "      <td>0</td>\n",
       "      <td>0</td>\n",
       "      <td>0</td>\n",
       "      <td>0</td>\n",
       "      <td>0</td>\n",
       "      <td>0</td>\n",
       "      <td>...</td>\n",
       "      <td>0</td>\n",
       "      <td>0</td>\n",
       "      <td>0</td>\n",
       "      <td>0</td>\n",
       "      <td>0</td>\n",
       "      <td>0</td>\n",
       "      <td>0</td>\n",
       "      <td>0</td>\n",
       "      <td>0</td>\n",
       "      <td>0</td>\n",
       "    </tr>\n",
       "    <tr>\n",
       "      <th>97</th>\n",
       "      <td>0</td>\n",
       "      <td>0</td>\n",
       "      <td>0</td>\n",
       "      <td>0</td>\n",
       "      <td>0</td>\n",
       "      <td>0</td>\n",
       "      <td>0</td>\n",
       "      <td>0</td>\n",
       "      <td>0</td>\n",
       "      <td>0</td>\n",
       "      <td>...</td>\n",
       "      <td>0</td>\n",
       "      <td>0</td>\n",
       "      <td>0</td>\n",
       "      <td>0</td>\n",
       "      <td>0</td>\n",
       "      <td>0</td>\n",
       "      <td>0</td>\n",
       "      <td>0</td>\n",
       "      <td>0</td>\n",
       "      <td>0</td>\n",
       "    </tr>\n",
       "    <tr>\n",
       "      <th>98</th>\n",
       "      <td>0</td>\n",
       "      <td>0</td>\n",
       "      <td>0</td>\n",
       "      <td>0</td>\n",
       "      <td>0</td>\n",
       "      <td>0</td>\n",
       "      <td>0</td>\n",
       "      <td>0</td>\n",
       "      <td>0</td>\n",
       "      <td>0</td>\n",
       "      <td>...</td>\n",
       "      <td>0</td>\n",
       "      <td>0</td>\n",
       "      <td>0</td>\n",
       "      <td>0</td>\n",
       "      <td>0</td>\n",
       "      <td>0</td>\n",
       "      <td>0</td>\n",
       "      <td>0</td>\n",
       "      <td>0</td>\n",
       "      <td>0</td>\n",
       "    </tr>\n",
       "    <tr>\n",
       "      <th>99</th>\n",
       "      <td>0</td>\n",
       "      <td>0</td>\n",
       "      <td>0</td>\n",
       "      <td>0</td>\n",
       "      <td>0</td>\n",
       "      <td>0</td>\n",
       "      <td>0</td>\n",
       "      <td>0</td>\n",
       "      <td>0</td>\n",
       "      <td>0</td>\n",
       "      <td>...</td>\n",
       "      <td>0</td>\n",
       "      <td>0</td>\n",
       "      <td>0</td>\n",
       "      <td>0</td>\n",
       "      <td>0</td>\n",
       "      <td>0</td>\n",
       "      <td>0</td>\n",
       "      <td>0</td>\n",
       "      <td>0</td>\n",
       "      <td>0</td>\n",
       "    </tr>\n",
       "  </tbody>\n",
       "</table>\n",
       "<p>100 rows × 22500 columns</p>\n",
       "</div>"
      ],
      "text/plain": [
       "    aaa  aaron  aaron tveit  ab  abandon  abandoned  abbas  abbey  abbott  \\\n",
       "0     0      0            0   0        0          0      0      0       0   \n",
       "1     0      0            0   0        0          0      0      0       0   \n",
       "2     0      0            0   0        0          0      0      0       0   \n",
       "3     0      0            0   0        0          0      0      0       0   \n",
       "4     0      0            0   0        0          0      0      0       0   \n",
       "..  ...    ...          ...  ..      ...        ...    ...    ...     ...   \n",
       "95    0      0            0   0        0          0      0      0       0   \n",
       "96    0      0            0   0        0          0      0      0       0   \n",
       "97    0      0            0   0        0          0      0      0       0   \n",
       "98    0      0            0   0        0          0      0      0       0   \n",
       "99    0      0            0   0        0          0      0      0       0   \n",
       "\n",
       "    abby  ...  zombie apocalypse  zone  zoo  zoolander  zotob  zotob worm  \\\n",
       "0      0  ...                  0     0    0          0      0           0   \n",
       "1      0  ...                  0     0    0          0      0           0   \n",
       "2      0  ...                  0     0    0          0      0           0   \n",
       "3      0  ...                  0     0    0          0      0           0   \n",
       "4      0  ...                  0     0    0          0      0           0   \n",
       "..   ...  ...                ...   ...  ...        ...    ...         ...   \n",
       "95     0  ...                  0     0    0          0      0           0   \n",
       "96     0  ...                  0     0    0          0      0           0   \n",
       "97     0  ...                  0     0    0          0      0           0   \n",
       "98     0  ...                  0     0    0          0      0           0   \n",
       "99     0  ...                  0     0    0          0      0           0   \n",
       "\n",
       "    zuma  zurich  íngrid  íngrid betancourt  \n",
       "0      0       0       0                  0  \n",
       "1      0       0       0                  0  \n",
       "2      0       0       0                  0  \n",
       "3      0       0       0                  0  \n",
       "4      0       0       0                  0  \n",
       "..   ...     ...     ...                ...  \n",
       "95     0       0       0                  0  \n",
       "96     0       0       0                  0  \n",
       "97     0       0       0                  0  \n",
       "98     0       0       0                  0  \n",
       "99     0       0       0                  0  \n",
       "\n",
       "[100 rows x 22500 columns]"
      ]
     },
     "execution_count": 28,
     "metadata": {},
     "output_type": "execute_result"
    }
   ],
   "source": [
    "pd.DataFrame(test_arr[:100], columns=cov.get_feature_names())"
   ]
  },
  {
   "cell_type": "markdown",
   "id": "2eda131c",
   "metadata": {},
   "source": [
    "### Define Naive Bayes Classifier and training"
   ]
  },
  {
   "cell_type": "code",
   "execution_count": 29,
   "id": "84700add",
   "metadata": {},
   "outputs": [],
   "source": [
    "NB_MN=MultinomialNB()\n",
    "NB_MN.fit(train_arr,train_y)\n",
    "pred=NB_MN.predict(test_arr)"
   ]
  },
  {
   "cell_type": "markdown",
   "id": "1b2b81c7",
   "metadata": {},
   "source": [
    "### Evaluación de resultados"
   ]
  },
  {
   "cell_type": "markdown",
   "id": "45e0b2f6",
   "metadata": {},
   "source": [
    "La precisión y la puntuación F1 del modelo se imprimen para evaluar el modelo para la clasificación del texto."
   ]
  },
  {
   "cell_type": "code",
   "execution_count": 30,
   "id": "eed0b8de",
   "metadata": {},
   "outputs": [
    {
     "name": "stdout",
     "output_type": "stream",
     "text": [
      "Puntuación F1 del modelo\n",
      "0.9593110334498253\n",
      "Precisión del modelo\n",
      "0.95925\n",
      "Precisión del modelo en porcentaje\n",
      "95.92500000000001 %\n"
     ]
    }
   ],
   "source": [
    "from sklearn.metrics import f1_score,accuracy_score\n",
    "print(\"Puntuación F1 del modelo\")\n",
    "print(f1_score(test_y,pred))\n",
    "print(\"Precisión del modelo\")\n",
    "print(accuracy_score(test_y,pred))\n",
    "print(\"Precisión del modelo en porcentaje\")\n",
    "print(accuracy_score(test_y,pred)*100,\"%\")"
   ]
  },
  {
   "cell_type": "code",
   "execution_count": 31,
   "id": "375ecbc0",
   "metadata": {},
   "outputs": [
    {
     "name": "stdout",
     "output_type": "stream",
     "text": [
      "Matriz de confusión\n",
      "[[3831  169]\n",
      " [ 157 3843]]\n",
      "Informe de clasificación\n",
      "              precision    recall  f1-score   support\n",
      "\n",
      "           0       0.96      0.96      0.96      4000\n",
      "           1       0.96      0.96      0.96      4000\n",
      "\n",
      "    accuracy                           0.96      8000\n",
      "   macro avg       0.96      0.96      0.96      8000\n",
      "weighted avg       0.96      0.96      0.96      8000\n",
      "\n"
     ]
    }
   ],
   "source": [
    "from sklearn.metrics import confusion_matrix\n",
    "print(\"Matriz de confusión\")\n",
    "print(confusion_matrix(test_y,pred))\n",
    "\n",
    "from sklearn.metrics import classification_report\n",
    "print(\"Informe de clasificación\")\n",
    "print(classification_report(test_y,pred))"
   ]
  },
  {
   "cell_type": "code",
   "execution_count": 32,
   "id": "617fa256",
   "metadata": {},
   "outputs": [
    {
     "data": {
      "text/plain": [
       "Text(0.5, 1.0, 'Matriz de confusión para la clasificación de Clickbait')"
      ]
     },
     "execution_count": 32,
     "metadata": {},
     "output_type": "execute_result"
    },
    {
     "data": {
      "image/png": "[encoded data removed]",
      "text/plain": [
       "<Figure size 576x576 with 1 Axes>"
      ]
     },
     "metadata": {},
     "output_type": "display_data"
    }
   ],
   "source": [
    "sns.set(font_scale=1.5)\n",
    "cof=confusion_matrix(test_y, pred)\n",
    "cof=pd.DataFrame(cof, index=[i for i in range(2)], columns=[i for i in range(2)])\n",
    "plt.figure(figsize=(8,8))\n",
    "\n",
    "sns.heatmap(cof, cmap=\"PuRd\",linewidths=1, annot=True,square=True,cbar=False,fmt='d',xticklabels=['No-clickbait','Clickbait'],yticklabels=['No-clickbait','Clickbait'])\n",
    "plt.xlabel(\"Clase predicha\")\n",
    "plt.ylabel(\"Clase real\")\n",
    "\n",
    "plt.title(\"Matriz de confusión para la clasificación de Clickbait\")"
   ]
  },
  {
   "cell_type": "markdown",
   "id": "02ff114e",
   "metadata": {},
   "source": [
    "## Detector clickbait con vectorizador de recuento"
   ]
  },
  {
   "cell_type": "markdown",
   "id": "75e1e64b",
   "metadata": {},
   "source": [
    "### División entrenamiento-prueba\n"
   ]
  },
  {
   "cell_type": "code",
   "execution_count": 34,
   "id": "492707e9",
   "metadata": {},
   "outputs": [
    {
     "name": "stdout",
     "output_type": "stream",
     "text": [
      "(24000,) (8000,) (24000,) (8000,)\n"
     ]
    }
   ],
   "source": [
    "text = dataset['headline'].values\n",
    "labels = dataset['clickbait'].values\n",
    "text_train, text_test, y_train, y_test = train_test_split(text, labels)\n",
    "print(text_train.shape, text_test.shape, y_train.shape, y_test.shape)"
   ]
  },
  {
   "cell_type": "markdown",
   "id": "ac035693",
   "metadata": {},
   "source": [
    "### Tokenize text"
   ]
  },
  {
   "cell_type": "code",
   "execution_count": 35,
   "id": "bda95c4a",
   "metadata": {},
   "outputs": [],
   "source": [
    "vocab_size = 5000\n",
    "maxlen = 500\n",
    "embedding_size = 32\n",
    "\n",
    "tokenizer = Tokenizer(num_words=vocab_size)\n",
    "tokenizer.fit_on_texts(text)\n",
    "\n",
    "X_train = tokenizer.texts_to_sequences(text_train)\n",
    "x_test = tokenizer.texts_to_sequences(text_test)\n",
    "\n",
    "X_train = pad_sequences(X_train, maxlen=maxlen)\n",
    "x_test = pad_sequences(x_test, maxlen=maxlen)"
   ]
  },
  {
   "cell_type": "markdown",
   "id": "29ad22a9",
   "metadata": {},
   "source": [
    "### Definir y entrenar el modelo"
   ]
  },
  {
   "cell_type": "code",
   "execution_count": 36,
   "id": "26659d76",
   "metadata": {},
   "outputs": [
    {
     "name": "stdout",
     "output_type": "stream",
     "text": [
      "Model: \"sequential\"\n",
      "_________________________________________________________________\n",
      " Layer (type)                Output Shape              Param #   \n",
      "=================================================================\n",
      " embedding (Embedding)       (None, 500, 32)           160000    \n",
      "                                                                 \n",
      " lstm (LSTM)                 (None, 500, 32)           8320      \n",
      "                                                                 \n",
      " global_max_pooling1d (Globa  (None, 32)               0         \n",
      " lMaxPooling1D)                                                  \n",
      "                                                                 \n",
      " dropout (Dropout)           (None, 32)                0         \n",
      "                                                                 \n",
      " dense (Dense)               (None, 1)                 33        \n",
      "                                                                 \n",
      "=================================================================\n",
      "Total params: 168,353\n",
      "Trainable params: 168,353\n",
      "Non-trainable params: 0\n",
      "_________________________________________________________________\n"
     ]
    }
   ],
   "source": [
    "model = Sequential()\n",
    "model.add(Embedding(vocab_size, embedding_size, input_length=maxlen))\n",
    "model.add(LSTM(32, return_sequences=True))\n",
    "model.add(GlobalMaxPooling1D())\n",
    "model.add(Dropout(0.2))\n",
    "model.add(Dense(1, activation='sigmoid'))\n",
    "model.summary()"
   ]
  },
  {
   "cell_type": "code",
   "execution_count": 37,
   "id": "137f0155",
   "metadata": {},
   "outputs": [],
   "source": [
    "callbacks = [\n",
    "    EarlyStopping(\n",
    "        monitor='val_accuracy',\n",
    "        min_delta=1e-4,\n",
    "        patience=3,\n",
    "        verbose=1\n",
    "    ),\n",
    "    ModelCheckpoint(\n",
    "        filepath='weights.h5',\n",
    "        monitor='val_accuracy', \n",
    "        mode='max', \n",
    "        save_best_only=True,\n",
    "        save_weights_only=True,\n",
    "        verbose=1\n",
    "    )\n",
    "]"
   ]
  },
  {
   "cell_type": "code",
   "execution_count": 38,
   "id": "97043ac3",
   "metadata": {},
   "outputs": [
    {
     "name": "stdout",
     "output_type": "stream",
     "text": [
      "Epoch 1/20\n",
      "47/47 [==============================] - ETA: 0s - loss: 0.6462 - accuracy: 0.7959\n",
      "Epoch 00001: val_accuracy improved from -inf to 0.94012, saving model to weights.h5\n",
      "47/47 [==============================] - 39s 807ms/step - loss: 0.6462 - accuracy: 0.7959 - val_loss: 0.5436 - val_accuracy: 0.9401\n",
      "Epoch 2/20\n",
      "47/47 [==============================] - ETA: 0s - loss: 0.3694 - accuracy: 0.9459\n",
      "Epoch 00002: val_accuracy improved from 0.94012 to 0.96200, saving model to weights.h5\n",
      "47/47 [==============================] - 47s 1s/step - loss: 0.3694 - accuracy: 0.9459 - val_loss: 0.2241 - val_accuracy: 0.9620\n",
      "Epoch 3/20\n",
      "47/47 [==============================] - ETA: 0s - loss: 0.1637 - accuracy: 0.9703\n",
      "Epoch 00003: val_accuracy improved from 0.96200 to 0.96700, saving model to weights.h5\n",
      "47/47 [==============================] - 48s 1s/step - loss: 0.1637 - accuracy: 0.9703 - val_loss: 0.1251 - val_accuracy: 0.9670\n",
      "Epoch 4/20\n",
      "47/47 [==============================] - ETA: 0s - loss: 0.0942 - accuracy: 0.9772\n",
      "Epoch 00004: val_accuracy improved from 0.96700 to 0.96950, saving model to weights.h5\n",
      "47/47 [==============================] - 50s 1s/step - loss: 0.0942 - accuracy: 0.9772 - val_loss: 0.0961 - val_accuracy: 0.9695\n",
      "Epoch 5/20\n",
      "47/47 [==============================] - ETA: 0s - loss: 0.0671 - accuracy: 0.9831\n",
      "Epoch 00005: val_accuracy improved from 0.96950 to 0.97125, saving model to weights.h5\n",
      "47/47 [==============================] - 51s 1s/step - loss: 0.0671 - accuracy: 0.9831 - val_loss: 0.0873 - val_accuracy: 0.9712\n",
      "Epoch 6/20\n",
      "47/47 [==============================] - ETA: 0s - loss: 0.0527 - accuracy: 0.9875\n",
      "Epoch 00006: val_accuracy improved from 0.97125 to 0.97225, saving model to weights.h5\n",
      "47/47 [==============================] - 52s 1s/step - loss: 0.0527 - accuracy: 0.9875 - val_loss: 0.0835 - val_accuracy: 0.9722\n",
      "Epoch 7/20\n",
      "47/47 [==============================] - ETA: 0s - loss: 0.0421 - accuracy: 0.9893\n",
      "Epoch 00007: val_accuracy improved from 0.97225 to 0.97300, saving model to weights.h5\n",
      "47/47 [==============================] - 52s 1s/step - loss: 0.0421 - accuracy: 0.9893 - val_loss: 0.0838 - val_accuracy: 0.9730\n",
      "Epoch 8/20\n",
      "47/47 [==============================] - ETA: 0s - loss: 0.0355 - accuracy: 0.9920\n",
      "Epoch 00008: val_accuracy did not improve from 0.97300\n",
      "47/47 [==============================] - 49s 1s/step - loss: 0.0355 - accuracy: 0.9920 - val_loss: 0.0853 - val_accuracy: 0.9724\n",
      "Epoch 9/20\n",
      "47/47 [==============================] - ETA: 0s - loss: 0.0306 - accuracy: 0.9927\n",
      "Epoch 00009: val_accuracy did not improve from 0.97300\n",
      "47/47 [==============================] - 51s 1s/step - loss: 0.0306 - accuracy: 0.9927 - val_loss: 0.0896 - val_accuracy: 0.9716\n",
      "Epoch 10/20\n",
      "47/47 [==============================] - ETA: 0s - loss: 0.0267 - accuracy: 0.9940\n",
      "Epoch 00010: val_accuracy did not improve from 0.97300\n",
      "47/47 [==============================] - 49s 1s/step - loss: 0.0267 - accuracy: 0.9940 - val_loss: 0.0923 - val_accuracy: 0.9720\n",
      "Epoch 00010: early stopping\n"
     ]
    }
   ],
   "source": [
    "model.compile(loss='binary_crossentropy', optimizer='adam', metrics=['accuracy'])\n",
    "history = model.fit(X_train, y_train, batch_size=512, validation_data=(x_test, y_test), epochs=20, callbacks=callbacks)"
   ]
  },
  {
   "cell_type": "code",
   "execution_count": 40,
   "id": "994127d0",
   "metadata": {},
   "outputs": [
    {
     "name": "stderr",
     "output_type": "stream",
     "text": [
      "WARNING:absl:Found untraced functions such as lstm_cell_layer_call_fn, lstm_cell_layer_call_and_return_conditional_losses, lstm_cell_layer_call_fn, lstm_cell_layer_call_and_return_conditional_losses, lstm_cell_layer_call_and_return_conditional_losses while saving (showing 5 of 5). These functions will not be directly callable after loading.\n"
     ]
    },
    {
     "name": "stdout",
     "output_type": "stream",
     "text": [
      "INFO:tensorflow:Assets written to: model\\assets\n"
     ]
    },
    {
     "name": "stderr",
     "output_type": "stream",
     "text": [
      "INFO:tensorflow:Assets written to: model\\assets\n",
      "WARNING:absl:<keras.layers.recurrent.LSTMCell object at 0x00000295BAE14A00> has the same name 'LSTMCell' as a built-in Keras object. Consider renaming <class 'keras.layers.recurrent.LSTMCell'> to avoid naming conflicts when loading with `tf.keras.models.load_model`. If renaming is not possible, pass the object in the `custom_objects` parameter of the load function.\n"
     ]
    }
   ],
   "source": [
    "model.load_weights('weights.h5')\n",
    "model.save('model')"
   ]
  },
  {
   "cell_type": "markdown",
   "id": "059da491",
   "metadata": {},
   "source": [
    "### Trazar métricas de entrenamiento"
   ]
  },
  {
   "cell_type": "code",
   "execution_count": 50,
   "id": "3c8e8035",
   "metadata": {},
   "outputs": [
    {
     "data": {
      "image/png": "[encoded data removed]",
      "text/plain": [
       "<Figure size 864x360 with 2 Axes>"
      ]
     },
     "metadata": {},
     "output_type": "display_data"
    }
   ],
   "source": [
    "acc = history.history['accuracy']\n",
    "val_acc = history.history['val_accuracy']\n",
    "loss = history.history['loss']\n",
    "val_loss = history.history['val_loss']\n",
    "x = range(1, len(acc) + 1)\n",
    "\n",
    "plt.figure(figsize=(12, 5))\n",
    "plt.subplot(1, 2, 1)\n",
    "plt.plot(x, acc, 'b', label='acc entrenamiento')\n",
    "plt.plot(x, val_acc, 'r', label='Validación acc')\n",
    "plt.title('Precisión de entrenamiento y validación')\n",
    "plt.legend()\n",
    "plt.subplot(1, 2, 2)\n",
    "plt.plot(x, loss, 'b', label='Pérdida de entrenamiento')\n",
    "plt.plot(x, val_loss, 'r', label='Pérdida de validación')\n",
    "plt.title('Pérdida de entrenamiento y validación')\n",
    "plt.legend()\n",
    "plt.show()"
   ]
  },
  {
   "cell_type": "markdown",
   "id": "a1caa4b2",
   "metadata": {},
   "source": [
    "### Trazar matrices y métricas de confusión"
   ]
  },
  {
   "cell_type": "code",
   "execution_count": 53,
   "id": "a89b4114",
   "metadata": {},
   "outputs": [
    {
     "data": {
      "text/plain": [
       "<Figure size 432x288 with 0 Axes>"
      ]
     },
     "metadata": {},
     "output_type": "display_data"
    },
    {
     "data": {
      "image/png": "[encoded data removed]",
      "text/plain": [
       "<Figure size 864x576 with 1 Axes>"
      ]
     },
     "metadata": {},
     "output_type": "display_data"
    }
   ],
   "source": [
    "preds = [round(i[0]) for i in model.predict(x_test)]\n",
    "cm = confusion_matrix(y_test, preds)\n",
    "plt.figure()\n",
    "plot_confusion_matrix(cm, figsize=(12,8), hide_ticks=True, cmap=plt.cm.Blues)\n",
    "plt.xticks(range(2), ['No clickbait', 'Clickbait'], fontsize=16)\n",
    "plt.yticks(range(2), ['No clickbait', 'Clickbait'], fontsize=16)\n",
    "plt.xlabel(\"Clase predicha\")\n",
    "plt.ylabel(\"Clase real\")\n",
    "plt.show()"
   ]
  },
  {
   "cell_type": "code",
   "execution_count": 59,
   "id": "51b8bb57",
   "metadata": {},
   "outputs": [
    {
     "name": "stdout",
     "output_type": "stream",
     "text": [
      "La exhaustividad (Recall) del modelo es 0.97\n",
      "La precisión del modelo es 0.98\n"
     ]
    }
   ],
   "source": [
    "tn, fp, fn, tp = cm.ravel()\n",
    "\n",
    "precision = tp/(tp+fp)\n",
    "recall = tp/(tp+fn)\n",
    "\n",
    "print(\"La exhaustividad (Recall) del modelo es {:.2f}\".format(recall))\n",
    "print(\"La precisión del modelo es {:.2f}\".format(precision))"
   ]
  }
 ],
 "metadata": {
  "kernelspec": {
   "display_name": "Python 3",
   "language": "python",
   "name": "python3"
  },
  "language_info": {
   "codemirror_mode": {
    "name": "ipython",
    "version": 3
   },
   "file_extension": ".py",
   "mimetype": "text/x-python",
   "name": "python",
   "nbconvert_exporter": "python",
   "pygments_lexer": "ipython3",
   "version": "3.8.8"
  }
 },
 "nbformat": 4,
 "nbformat_minor": 5
}
